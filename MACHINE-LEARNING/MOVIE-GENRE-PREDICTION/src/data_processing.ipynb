{
 "cells": [
  {
   "cell_type": "code",
   "execution_count": 2,
   "id": "ce3c64de-18b8-4eba-acaa-4c38d76420bf",
   "metadata": {},
   "outputs": [],
   "source": [
    "import pandas as pd\n",
    "import numpy as np"
   ]
  },
  {
   "cell_type": "code",
   "execution_count": 22,
   "id": "cb23200b-2dc5-4564-bf87-ecd180ac9b29",
   "metadata": {},
   "outputs": [],
   "source": [
    "data_file = \"D:\\\\CODSOFT\\\\MACHINE-LEARNING\\\\MOVIE-GENRE-PREDICTION\\\\Data\\\\train_data.txt\""
   ]
  },
  {
   "cell_type": "code",
   "execution_count": 10,
   "id": "160c52be-990a-485a-8c95-a121112749fd",
   "metadata": {},
   "outputs": [],
   "source": [
    "column_names = ['ID', 'Title', 'Genre', 'Summary']"
   ]
  },
  {
   "cell_type": "code",
   "execution_count": 23,
   "id": "d52bc275-d6f1-4f7e-bca9-2d40707bf1a8",
   "metadata": {},
   "outputs": [],
   "source": [
    "with open(data_file, 'r', encoding='utf-8') as file:\n",
    "    lines = file.readlines()"
   ]
  },
  {
   "cell_type": "code",
   "execution_count": 9,
   "id": "6df06783-c09e-4e2a-8bc5-7fd785a09c8f",
   "metadata": {},
   "outputs": [],
   "source": [
    "movies = [ line.strip().split(' ::: ')  for line in lines ]"
   ]
  },
  {
   "cell_type": "code",
   "execution_count": 29,
   "id": "e0a5cd47-d9b3-4314-9e1c-28253e5be762",
   "metadata": {},
   "outputs": [],
   "source": [
    "df = pd.DataFrame(movies, columns=column_names)"
   ]
  },
  {
   "cell_type": "code",
   "execution_count": 27,
   "id": "534e75cd-aca6-4108-8b71-48b7c7758098",
   "metadata": {},
   "outputs": [
    {
     "name": "stdout",
     "output_type": "stream",
     "text": [
      "<class 'pandas.core.frame.DataFrame'>\n",
      "RangeIndex: 54214 entries, 0 to 54213\n",
      "Data columns (total 4 columns):\n",
      " #   Column   Non-Null Count  Dtype \n",
      "---  ------   --------------  ----- \n",
      " 0   ID       54214 non-null  int32 \n",
      " 1   Title    54214 non-null  object\n",
      " 2   Genre    54214 non-null  object\n",
      " 3   Summary  54214 non-null  object\n",
      "dtypes: int32(1), object(3)\n",
      "memory usage: 1.4+ MB\n"
     ]
    }
   ],
   "source": [
    "df.info()"
   ]
  },
  {
   "cell_type": "code",
   "execution_count": 26,
   "id": "a7f522df-8b35-4b87-a55c-a1536cc60801",
   "metadata": {},
   "outputs": [],
   "source": [
    "df['ID'] = df['ID'].astype(int)"
   ]
  },
  {
   "cell_type": "code",
   "execution_count": 33,
   "id": "cd78363b-a4e5-43a7-924d-2206af95f1f5",
   "metadata": {},
   "outputs": [],
   "source": [
    "df['Title'] = df['Title'].str.replace('[^\\w\\s]', '').str.replace('\"', '').str.lower()\n",
    "df['Summary'] = df['Summary'].str.replace('[^\\w\\s]', '').str.replace('\"', '').str.lower()"
   ]
  },
  {
   "cell_type": "code",
   "execution_count": 35,
   "id": "8fa89d72-62bb-440e-a7f3-ac76ec907561",
   "metadata": {},
   "outputs": [
    {
     "data": {
      "text/html": [
       "<div>\n",
       "<style scoped>\n",
       "    .dataframe tbody tr th:only-of-type {\n",
       "        vertical-align: middle;\n",
       "    }\n",
       "\n",
       "    .dataframe tbody tr th {\n",
       "        vertical-align: top;\n",
       "    }\n",
       "\n",
       "    .dataframe thead th {\n",
       "        text-align: right;\n",
       "    }\n",
       "</style>\n",
       "<table border=\"1\" class=\"dataframe\">\n",
       "  <thead>\n",
       "    <tr style=\"text-align: right;\">\n",
       "      <th></th>\n",
       "      <th>ID</th>\n",
       "      <th>Title</th>\n",
       "      <th>Genre</th>\n",
       "      <th>Summary</th>\n",
       "    </tr>\n",
       "  </thead>\n",
       "  <tbody>\n",
       "    <tr>\n",
       "      <th>0</th>\n",
       "      <td>1</td>\n",
       "      <td>oscar et la dame rose (2009)</td>\n",
       "      <td>drama</td>\n",
       "      <td>listening in to a conversation between his doc...</td>\n",
       "    </tr>\n",
       "    <tr>\n",
       "      <th>1</th>\n",
       "      <td>2</td>\n",
       "      <td>cupid (1997)</td>\n",
       "      <td>thriller</td>\n",
       "      <td>a brother and sister with a past incestuous re...</td>\n",
       "    </tr>\n",
       "    <tr>\n",
       "      <th>2</th>\n",
       "      <td>3</td>\n",
       "      <td>young, wild and wonderful (1980)</td>\n",
       "      <td>adult</td>\n",
       "      <td>as the bus empties the students for their fiel...</td>\n",
       "    </tr>\n",
       "    <tr>\n",
       "      <th>3</th>\n",
       "      <td>4</td>\n",
       "      <td>the secret sin (1915)</td>\n",
       "      <td>drama</td>\n",
       "      <td>to help their unemployed father make ends meet...</td>\n",
       "    </tr>\n",
       "    <tr>\n",
       "      <th>4</th>\n",
       "      <td>5</td>\n",
       "      <td>the unrecovered (2007)</td>\n",
       "      <td>drama</td>\n",
       "      <td>the film's title refers not only to the un-rec...</td>\n",
       "    </tr>\n",
       "    <tr>\n",
       "      <th>5</th>\n",
       "      <td>6</td>\n",
       "      <td>quality control (2011)</td>\n",
       "      <td>documentary</td>\n",
       "      <td>quality control consists of a series of 16mm s...</td>\n",
       "    </tr>\n",
       "    <tr>\n",
       "      <th>6</th>\n",
       "      <td>7</td>\n",
       "      <td>pink slip (2009)</td>\n",
       "      <td>comedy</td>\n",
       "      <td>in tough economic times max and joey have all ...</td>\n",
       "    </tr>\n",
       "    <tr>\n",
       "      <th>7</th>\n",
       "      <td>8</td>\n",
       "      <td>one step away (1985)</td>\n",
       "      <td>crime</td>\n",
       "      <td>ron petrie (keanu reeves) is a troubled teen w...</td>\n",
       "    </tr>\n",
       "    <tr>\n",
       "      <th>8</th>\n",
       "      <td>9</td>\n",
       "      <td>desperate hours (2016)</td>\n",
       "      <td>reality-tv</td>\n",
       "      <td>a sudden calamitous event, causing great loss ...</td>\n",
       "    </tr>\n",
       "    <tr>\n",
       "      <th>9</th>\n",
       "      <td>10</td>\n",
       "      <td>spirits (2014/i)</td>\n",
       "      <td>horror</td>\n",
       "      <td>four high school students embark on a terrifyi...</td>\n",
       "    </tr>\n",
       "  </tbody>\n",
       "</table>\n",
       "</div>"
      ],
      "text/plain": [
       "   ID                             Title        Genre  \\\n",
       "0   1      oscar et la dame rose (2009)        drama   \n",
       "1   2                      cupid (1997)     thriller   \n",
       "2   3  young, wild and wonderful (1980)        adult   \n",
       "3   4             the secret sin (1915)        drama   \n",
       "4   5            the unrecovered (2007)        drama   \n",
       "5   6            quality control (2011)  documentary   \n",
       "6   7                  pink slip (2009)       comedy   \n",
       "7   8              one step away (1985)        crime   \n",
       "8   9            desperate hours (2016)   reality-tv   \n",
       "9  10                  spirits (2014/i)       horror   \n",
       "\n",
       "                                             Summary  \n",
       "0  listening in to a conversation between his doc...  \n",
       "1  a brother and sister with a past incestuous re...  \n",
       "2  as the bus empties the students for their fiel...  \n",
       "3  to help their unemployed father make ends meet...  \n",
       "4  the film's title refers not only to the un-rec...  \n",
       "5  quality control consists of a series of 16mm s...  \n",
       "6  in tough economic times max and joey have all ...  \n",
       "7  ron petrie (keanu reeves) is a troubled teen w...  \n",
       "8  a sudden calamitous event, causing great loss ...  \n",
       "9  four high school students embark on a terrifyi...  "
      ]
     },
     "execution_count": 35,
     "metadata": {},
     "output_type": "execute_result"
    }
   ],
   "source": [
    "df.head(10)"
   ]
  },
  {
   "cell_type": "code",
   "execution_count": 36,
   "id": "33ee4caa-3573-4f4f-83bc-fdb5ad5619e8",
   "metadata": {},
   "outputs": [
    {
     "data": {
      "text/plain": [
       "0              drama\n",
       "1           thriller\n",
       "2              adult\n",
       "3              drama\n",
       "4              drama\n",
       "            ...     \n",
       "54209         comedy\n",
       "54210         horror\n",
       "54211    documentary\n",
       "54212         comedy\n",
       "54213        history\n",
       "Name: Genre, Length: 54214, dtype: object"
      ]
     },
     "execution_count": 36,
     "metadata": {},
     "output_type": "execute_result"
    }
   ],
   "source": [
    "df['Genre']"
   ]
  },
  {
   "cell_type": "code",
   "execution_count": null,
   "id": "95f1dde2-3df9-4a59-9ec0-ec8052aadb39",
   "metadata": {},
   "outputs": [],
   "source": []
  }
 ],
 "metadata": {
  "kernelspec": {
   "display_name": "Python 3 (ipykernel)",
   "language": "python",
   "name": "python3"
  },
  "language_info": {
   "codemirror_mode": {
    "name": "ipython",
    "version": 3
   },
   "file_extension": ".py",
   "mimetype": "text/x-python",
   "name": "python",
   "nbconvert_exporter": "python",
   "pygments_lexer": "ipython3",
   "version": "3.11.5"
  }
 },
 "nbformat": 4,
 "nbformat_minor": 5
}
